{
 "cells": [
  {
   "cell_type": "markdown",
   "id": "ff15c727-227a-457e-94c9-d17f50df6d94",
   "metadata": {
    "jupyter": {
     "source_hidden": true
    }
   },
   "source": [
    "Exercise 1: Create a Jupyter Notebook\n",
    "Create a new Jupyter notebook called\n",
    "DataScienceEcosystem.ipynb\n",
    "I will be using Anaconda"
   ]
  },
  {
   "cell_type": "markdown",
   "id": "29b89dc5-bb67-4266-b6fa-8083ca71b22f",
   "metadata": {
    "jupyter": {
     "source_hidden": true
    }
   },
   "source": [
    "Exercise 2: Create markdown cell with title of the notebook\n",
    "Create a markdown cell with the title\n",
    "Data Science Tools and Ecosystem\n",
    "using H1 style heading."
   ]
  },
  {
   "cell_type": "markdown",
   "id": "5d752e00-1661-4e5d-97d1-e8ee68f37689",
   "metadata": {},
   "source": [
    "# Data Science Tools and Ecosystem"
   ]
  },
  {
   "attachments": {},
   "cell_type": "markdown",
   "id": "baf5de28-bb60-4416-ad50-b5bdb7aa3254",
   "metadata": {
    "jupyter": {
     "source_hidden": true
    }
   },
   "source": [
    "Exercise 3 - Create a markdown cell for an introduction\r\n",
    "Write an introductory sentence about the notebook such as the follows:\r\n",
    "In this notebook, Data Science Tools and Ecosystem are summarized."
   ]
  },
  {
   "cell_type": "markdown",
   "id": "3b4a17ed-f716-44f2-b7f8-f52cd371fefc",
   "metadata": {},
   "source": [
    "In this notebook, Data Science Tools and Ecosystem are summarized."
   ]
  },
  {
   "cell_type": "markdown",
   "id": "479dcdb9-9953-4c76-b463-09797801bba9",
   "metadata": {},
   "source": [
    "__Objectives__  \n",
    "- data science languages \n",
    "- data science libraries\n",
    "- data science tools\n",
    "- arithmetic operations"
   ]
  },
  {
   "cell_type": "markdown",
   "id": "bdebed05-15cb-4f4b-9eb6-539377bd8c97",
   "metadata": {},
   "source": [
    "Exercise 4 - Create a markdown cell to list data science languages\r\n",
    "Start the cell with an overview line such as:\r\n",
    "Some of the popular languages that Data Scientists use are:\r\n",
    "Then create an\r\n",
    "ordered list\r\n",
    "(i.e. numbered) listing 3 (or more) commonly used languages for data science."
   ]
  },
  {
   "cell_type": "markdown",
   "id": "4fa60170-6c8b-4910-8c42-1f127e1678e6",
   "metadata": {},
   "source": [
    "Some of the popular languages that Data Scientists use are:  \n",
    "1. Python  \n",
    "2. R  \n",
    "3. Julia  "
   ]
  },
  {
   "cell_type": "markdown",
   "id": "1906aaca-9bff-4806-b1ab-30ebf7611f01",
   "metadata": {
    "jupyter": {
     "source_hidden": true
    }
   },
   "source": [
    "Exercise 5 - Create a markdown cell to list data science libraries\r\n",
    "Add an overview line to the cell like:\r\n",
    "Some of the commonly used libraries used by Data Scientists include:\r\n",
    "Below this line add an\r\n",
    "ordered list\r\n",
    "listing 3 (or more) commonly used libraries in data science."
   ]
  },
  {
   "cell_type": "markdown",
   "id": "d03a6780-4c9d-464f-9919-28fc4fc7ec13",
   "metadata": {},
   "source": [
    "Some of the commonly used libraries used by Data Scientists include:  \n",
    "1. Pandas  \n",
    "2. NumPy  \n",
    "3. Scikit-learn"
   ]
  },
  {
   "cell_type": "markdown",
   "id": "5256a2b5-fa18-438e-9e0e-2fdeb7d6372a",
   "metadata": {
    "jupyter": {
     "source_hidden": true
    }
   },
   "source": [
    "Exercise 6 - Create a markdown cell with a table of Data Science tools\r\n",
    "Create a single column table in this cell with the first row containing the header\r\n",
    "Data Science Tools\r\n",
    ". The subsequent three rows in the table should indicate three development environmentopen source tools used in data science."
   ]
  },
  {
   "cell_type": "markdown",
   "id": "7ea5859c-adec-42a6-8708-b0698de264de",
   "metadata": {},
   "source": [
    "|Data Science Tools | \n",
    "|-----------|\n",
    "|Anaconda |  \n",
    "|PyCharm |  \n",
    "|VisualStudio|  "
   ]
  },
  {
   "cell_type": "markdown",
   "id": "36bab376-84f0-45ed-bb0e-26d4cb906ca2",
   "metadata": {
    "jupyter": {
     "source_hidden": true
    }
   },
   "source": [
    "Exercise 7 - Create a markdown cell introducing arithmetic expression examples\r\n",
    "Add a line in this cell with H3 style heading with text like:\r\n",
    "Below are a few examples of evaluating arithmetic expressions in Python\r\n",
    "."
   ]
  },
  {
   "cell_type": "markdown",
   "id": "60c6502d-2339-403e-986d-4513d8ddc189",
   "metadata": {},
   "source": [
    "### Below are a few examples of evaluating arithmetic expressions in Python"
   ]
  },
  {
   "cell_type": "markdown",
   "id": "f775d9fc-3325-4e79-8ea8-7ea36c5a67e0",
   "metadata": {
    "jupyter": {
     "source_hidden": true
    }
   },
   "source": [
    "Exercise 8 - Create a code cell to multiply and add numbers\r\n",
    "In this code cell evaluate the expression\r\n",
    "(3*4)+5\r\n",
    ".\r\n",
    "Insert a comment line before the expression to explain the operation e.g.\r\n",
    "This a simple arithmetic expression lto mutiply then add integers\r\n",
    ".\r\n",
    "Then execute the cell to ensure the expression returns the expected output of\r\n",
    "17\r\n",
    "."
   ]
  },
  {
   "cell_type": "code",
   "execution_count": 1,
   "id": "d6e85e73-49a1-4591-aea6-17db1ffb8446",
   "metadata": {},
   "outputs": [
    {
     "data": {
      "text/plain": [
       "17"
      ]
     },
     "execution_count": 1,
     "metadata": {},
     "output_type": "execute_result"
    }
   ],
   "source": [
    "#This is a simple arithmetic expression to multiply and then add integers\n",
    "(3*4)+5"
   ]
  },
  {
   "cell_type": "markdown",
   "id": "fe7db855-9497-444e-94c0-ddbe2e66ac96",
   "metadata": {
    "jupyter": {
     "source_hidden": true
    }
   },
   "source": [
    "Exercise 9 - Create a code cell to convert minutes to hours\r\n",
    "In this code cell write an expression that converts\r\n",
    "200 minutes\r\n",
    "into\r\n",
    "hours\r\n",
    ".\r\n",
    "Insert a comment line before the expression to explain the operation e.g.\r\n",
    "This will convert 200 minutes to hours by diving by 60\r\n",
    ".\r\n",
    "Run the cell to evaluate the expression."
   ]
  },
  {
   "cell_type": "code",
   "execution_count": 5,
   "id": "03649791-9c21-47b9-98ff-17a2b49187f8",
   "metadata": {},
   "outputs": [
    {
     "name": "stdout",
     "output_type": "stream",
     "text": [
      "3.3333333333333335\n"
     ]
    }
   ],
   "source": [
    "#This will convert 200 minutes to hours by diving by 60\n",
    "a= 200/60\n",
    "print(a)"
   ]
  },
  {
   "cell_type": "markdown",
   "id": "ba29a50a-c783-46ea-bbe9-7a3334473f59",
   "metadata": {
    "jupyter": {
     "source_hidden": true
    }
   },
   "source": [
    "Exercise 10 - Insert a markdown cell to list Objectives\r\n",
    "Below the introduction cell created in Exercise 3, insert a new markdown cell to list the objectives that this notebook covered (i.e. some of the key takeaways from the course). In this newcell start with an introductory line titled:\r\n",
    "Objectives:\r\n",
    "in bold font. Then using an\r\n",
    "unordered list\r\n",
    "(bullets) indicate 3 to 5 items covered in this notebook, such as\r\n",
    "List popular languagesfor Data Science\r\n",
    "."
   ]
  },
  {
   "cell_type": "markdown",
   "id": "d168b6e8-d53e-4019-91ab-5f8cbb7a4694",
   "metadata": {},
   "source": [
    "__Objectives__  \n",
    "- data science languages \n",
    "- data science libraries\n",
    "- data science tools\n",
    "- arithmetic operations"
   ]
  },
  {
   "cell_type": "markdown",
   "id": "481402b8-ec25-4810-a3dc-d49c2bf722ab",
   "metadata": {
    "jupyter": {
     "source_hidden": true
    }
   },
   "source": [
    "Exercise 11 - Create a markdown cell to indicate the Author's name\r\n",
    "In this markdown cell markdown cell include the following text\r\n",
    "Author\r\n",
    "in\r\n",
    "H2 style heading\r\n",
    ". Include your\r\n",
    "name\r\n",
    "as regular text below the word\r\n",
    "Author\r\n",
    "."
   ]
  },
  {
   "cell_type": "markdown",
   "id": "9a37bf0d-5019-4d72-8e15-851ea90e23d5",
   "metadata": {},
   "source": [
    "## Author  \n",
    "Chiara Castelli"
   ]
  }
 ],
 "metadata": {
  "kernelspec": {
   "display_name": "anaconda-2024.02-py310",
   "language": "python",
   "name": "conda-env-anaconda-2024.02-py310-py"
  },
  "language_info": {
   "codemirror_mode": {
    "name": "ipython",
    "version": 3
   },
   "file_extension": ".py",
   "mimetype": "text/x-python",
   "name": "python",
   "nbconvert_exporter": "python",
   "pygments_lexer": "ipython3",
   "version": "3.10.14"
  }
 },
 "nbformat": 4,
 "nbformat_minor": 5
}
