{
 "cells": [
  {
   "cell_type": "markdown",
   "id": "5d752e00-1661-4e5d-97d1-e8ee68f37689",
   "metadata": {},
   "source": [
    "# Data Science Tools and Ecosystem"
   ]
  },
  {
   "cell_type": "markdown",
   "id": "3b4a17ed-f716-44f2-b7f8-f52cd371fefc",
   "metadata": {},
   "source": [
    "In this notebook, Data Science Tools and Ecosystem are summarized."
   ]
  },
  {
   "cell_type": "markdown",
   "id": "479dcdb9-9953-4c76-b463-09797801bba9",
   "metadata": {},
   "source": [
    "__Objectives__  \n",
    "- data science languages \n",
    "- data science libraries\n",
    "- data science tools\n",
    "- arithmetic operations"
   ]
  },
  {
   "cell_type": "markdown",
   "id": "4fa60170-6c8b-4910-8c42-1f127e1678e6",
   "metadata": {},
   "source": [
    "Some of the popular languages that Data Scientists use are:  \n",
    "1. Python  \n",
    "2. R  \n",
    "3. Julia  "
   ]
  },
  {
   "cell_type": "markdown",
   "id": "d03a6780-4c9d-464f-9919-28fc4fc7ec13",
   "metadata": {},
   "source": [
    "Some of the commonly used libraries used by Data Scientists include:  \n",
    "1. Pandas  \n",
    "2. NumPy  \n",
    "3. Scikit-learn"
   ]
  },
  {
   "cell_type": "markdown",
   "id": "7ea5859c-adec-42a6-8708-b0698de264de",
   "metadata": {},
   "source": [
    "|Data Science Tools | \n",
    "|-----------|\n",
    "|Anaconda |  \n",
    "|PyCharm |  \n",
    "|VisualStudio|  "
   ]
  },
  {
   "cell_type": "markdown",
   "id": "60c6502d-2339-403e-986d-4513d8ddc189",
   "metadata": {},
   "source": [
    "### Below are a few examples of evaluating arithmetic expressions in Python"
   ]
  },
  {
   "cell_type": "code",
   "execution_count": 1,
   "id": "d6e85e73-49a1-4591-aea6-17db1ffb8446",
   "metadata": {},
   "outputs": [
    {
     "data": {
      "text/plain": [
       "17"
      ]
     },
     "execution_count": 1,
     "metadata": {},
     "output_type": "execute_result"
    }
   ],
   "source": [
    "#This is a simple arithmetic expression to multiply and then add integers\n",
    "(3*4)+5"
   ]
  },
  {
   "cell_type": "code",
   "execution_count": 5,
   "id": "03649791-9c21-47b9-98ff-17a2b49187f8",
   "metadata": {},
   "outputs": [
    {
     "name": "stdout",
     "output_type": "stream",
     "text": [
      "3.3333333333333335\n"
     ]
    }
   ],
   "source": [
    "#This will convert 200 minutes to hours by diving by 60\n",
    "a= 200/60\n",
    "print(a)"
   ]
  },
  {
   "cell_type": "markdown",
   "id": "9a37bf0d-5019-4d72-8e15-851ea90e23d5",
   "metadata": {},
   "source": [
    "## Author  \n",
    "Chiara Castelli"
   ]
  }
 ],
 "metadata": {
  "kernelspec": {
   "display_name": "anaconda-2024.02-py310",
   "language": "python",
   "name": "conda-env-anaconda-2024.02-py310-py"
  },
  "language_info": {
   "codemirror_mode": {
    "name": "ipython",
    "version": 3
   },
   "file_extension": ".py",
   "mimetype": "text/x-python",
   "name": "python",
   "nbconvert_exporter": "python",
   "pygments_lexer": "ipython3",
   "version": "3.10.14"
  }
 },
 "nbformat": 4,
 "nbformat_minor": 5
}
